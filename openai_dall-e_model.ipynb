{
 "cells": [
  {
   "cell_type": "markdown",
   "metadata": {},
   "source": [
    "### DALL-E EXAMPLE"
   ]
  },
  {
   "cell_type": "code",
   "execution_count": null,
   "metadata": {
    "vscode": {
     "languageId": "plaintext"
    }
   },
   "outputs": [],
   "source": [
    "# Making sure OpenAI is install\n",
    "!pip install openai"
   ]
  },
  {
   "cell_type": "code",
   "execution_count": null,
   "metadata": {
    "vscode": {
     "languageId": "plaintext"
    }
   },
   "outputs": [],
   "source": [
    "# Bringing in Libraries\n",
    "import os\n",
    "import openai\n",
    "\n",
    "# Add your API key below\n",
    "\n",
    "os.environ[\"OPENAI_API_KEY\"] = \"YOUR KEY GOES HERE\"\n",
    "openai.api_key=os.getenv('OPENAI_API_KEY')"
   ]
  },
  {
   "cell_type": "code",
   "execution_count": null,
   "metadata": {
    "vscode": {
     "languageId": "plaintext"
    }
   },
   "outputs": [],
   "source": [
    "# Instantiate the model \n",
    "\n",
    "from openai import OpenAI\n",
    "client = OpenAI()"
   ]
  },
  {
   "cell_type": "code",
   "execution_count": null,
   "metadata": {
    "vscode": {
     "languageId": "plaintext"
    }
   },
   "outputs": [],
   "source": [
    "# Create shopping list and recipe function\n",
    "def create_shopping_list(recipe):\n",
    "    prompt = f\"Create a shopping list based on the following recipe and goods that go well with it and cooking instructions: {(recipe)}\"\n",
    "\n",
    "    return prompt"
   ]
  },
  {
   "cell_type": "code",
   "execution_count": null,
   "metadata": {
    "vscode": {
     "languageId": "plaintext"
    }
   },
   "outputs": [],
   "source": [
    "# Function Test\n",
    "recipe = create_shopping_list(\"Chipotle chicken and rice bowl\")\n",
    "\n",
    "print(recipe)"
   ]
  },
  {
   "cell_type": "code",
   "execution_count": null,
   "metadata": {
    "vscode": {
     "languageId": "plaintext"
    }
   },
   "outputs": [],
   "source": [
    "# Receaching out to OpenAI for the answer\n",
    "response = client.chat.completions.create(\n",
    "    model = \"gpt-3.5-turbo\",\n",
    "    messages = [\n",
    "        {\n",
    "            \"role\":\"system\",\n",
    "            \"content\": recipe\n",
    "        },\n",
    "    ],\n",
    "    temperature = 0.7, ### Feel free to change hyperparameters\n",
    "    top_p = 1,\n",
    ")\n",
    "\n",
    "print(response.choices[0].message.content)"
   ]
  },
  {
   "cell_type": "code",
   "execution_count": null,
   "metadata": {
    "vscode": {
     "languageId": "plaintext"
    }
   },
   "outputs": [],
   "source": [
    "# Putting the ingredients into a shopping list\n",
    "import re\n",
    "\n",
    "text = response.choices[0].message.content\n",
    "\n",
    "pattern = re.compile(r'- (.+)')\n",
    "matches = pattern.findall(text)\n",
    "\n",
    "shopping_list = []\n",
    "\n",
    "for match in matches:\n",
    "    shopping_list.append(match)\n",
    "\n",
    "print(shopping_list)"
   ]
  },
  {
   "cell_type": "code",
   "execution_count": null,
   "metadata": {
    "vscode": {
     "languageId": "plaintext"
    }
   },
   "outputs": [],
   "source": [
    "# Sending the item to DALLE \n",
    "image_response = client.images.generate(\n",
    "    model =\"dall-e-3\",\n",
    "    prompt=shopping_list[0],\n",
    "    size=\"1024x1024\",\n",
    "    quality=\"standard\",\n",
    "    n=1,\n",
    ")\n",
    "\n",
    "image_url = image_response.data[0].url \n",
    "\n",
    "print(image_url)"
   ]
  }
 ],
 "metadata": {
  "language_info": {
   "name": "python"
  }
 },
 "nbformat": 4,
 "nbformat_minor": 2
}
